{
 "cells": [
  {
   "cell_type": "markdown",
   "metadata": {},
   "source": [
    "# An Analysis of Political Contributions During the 2020 House of Representatives Election\n",
    "Name: Habeeb Kotun Jr.<br>\n",
    "Team: Silver SLoths<br>\n",
    "Date: 10/14/2021<br>"
   ]
  },
  {
   "cell_type": "code",
   "execution_count": 1,
   "metadata": {},
   "outputs": [],
   "source": [
    "import pandas as pd\n",
    "import numpy as np\n",
    "import re\n",
    "import requests\n",
    "from bs4 import BeautifulSoup as BS"
   ]
  },
  {
   "cell_type": "code",
   "execution_count": 2,
   "metadata": {
    "scrolled": true
   },
   "outputs": [
    {
     "data": {
      "text/html": [
       "<div>\n",
       "<style scoped>\n",
       "    .dataframe tbody tr th:only-of-type {\n",
       "        vertical-align: middle;\n",
       "    }\n",
       "\n",
       "    .dataframe tbody tr th {\n",
       "        vertical-align: top;\n",
       "    }\n",
       "\n",
       "    .dataframe thead th {\n",
       "        text-align: right;\n",
       "    }\n",
       "</style>\n",
       "<table border=\"1\" class=\"dataframe\">\n",
       "  <thead>\n",
       "    <tr style=\"text-align: right;\">\n",
       "      <th></th>\n",
       "      <th>Candidate</th>\n",
       "      <th>Raised</th>\n",
       "      <th>Spent</th>\n",
       "      <th>Cash on Hand</th>\n",
       "      <th>Last Report</th>\n",
       "    </tr>\n",
       "  </thead>\n",
       "  <tbody>\n",
       "    <tr>\n",
       "      <th>0</th>\n",
       "      <td>Tim Burchett (R)  • Incumbent • Winner</td>\n",
       "      <td>$1,336,276</td>\n",
       "      <td>$878,488</td>\n",
       "      <td>$593,678</td>\n",
       "      <td>12/31/2020</td>\n",
       "    </tr>\n",
       "    <tr>\n",
       "      <th>1</th>\n",
       "      <td>Renee Hoyos (D)</td>\n",
       "      <td>$812,784</td>\n",
       "      <td>$816,793</td>\n",
       "      <td>$210</td>\n",
       "      <td>12/31/2020</td>\n",
       "    </tr>\n",
       "  </tbody>\n",
       "</table>\n",
       "</div>"
      ],
      "text/plain": [
       "                                Candidate      Raised     Spent Cash on Hand  \\\n",
       "0  Tim Burchett (R)  • Incumbent • Winner  $1,336,276  $878,488     $593,678   \n",
       "1                         Renee Hoyos (D)    $812,784  $816,793         $210   \n",
       "\n",
       "  Last Report  \n",
       "0  12/31/2020  \n",
       "1  12/31/2020  "
      ]
     },
     "execution_count": 2,
     "metadata": {},
     "output_type": "execute_result"
    }
   ],
   "source": [
    "# Scrape the data from the summary page for Tennessee's 2nd District\n",
    "URL = 'https://www.opensecrets.org/races/summary?cycle=2020&id=TN02&spec=N'\n",
    "response = requests.get(URL)\n",
    "soup = BS(response.text)\n",
    "TN02 = pd.read_html(str(soup.find('table')))[0]\n",
    "TN02"
   ]
  },
  {
   "cell_type": "code",
   "execution_count": 3,
   "metadata": {},
   "outputs": [],
   "source": [
    "for index in TN02.index:\n",
    "    # Split up string in candidate column\n",
    "    candidate_split = TN02['Candidate'][index].split()\n",
    "    \n",
    "    # Assign candidate name to candidate column\n",
    "    TN02.at[index, 'Candidate'] = candidate_split[0] + ' ' + candidate_split[1]\n",
    "    \n",
    "    # Create new column named party\n",
    "    TN02.at[index, 'party'] = re.sub(r'\\W', '', candidate_split[2])\n",
    "    \n",
    "    # Create column named incumbent and determine incumbent status\n",
    "    if (len(candidate_split) > 3) and (candidate_split[4] == 'Incumbent'):\n",
    "        TN02.at[index, 'incumbent'] =  True\n",
    "    else:\n",
    "        TN02.at[index, 'incumbent'] =  False\n",
    "\n",
    "    # Create column named race and determine if candidate won the race\n",
    "    if (len(candidate_split) > 3) and (candidate_split[6] == 'Winner'):\n",
    "        TN02.at[index, 'race'] =  True\n",
    "    else:\n",
    "        TN02.at[index, 'race'] =  False\n",
    "        \n",
    "    # Remove non-digit characters from raised and spent columns\n",
    "    # Also transform raised and spent columns to int type\n",
    "    TN02.at[index, 'Raised'] = int(re.sub(r'\\D', '', TN02.at[index, 'Raised']))\n",
    "    TN02.at[index, 'Spent'] = int(re.sub(r'\\D', '', TN02.at[index, 'Spent']))\n",
    "    \n",
    "    # Create state and district columns\n",
    "    TN02.at[index, 'state'] = re.findall(r'id=\\w\\w\\d\\d', str(soup.find('link')))[0][3:5]\n",
    "    TN02.at[index, 'district'] = re.findall(r'id=\\w\\w\\d\\d', str(soup.find('link')))[0][5:7]"
   ]
  },
  {
   "cell_type": "code",
   "execution_count": 4,
   "metadata": {},
   "outputs": [],
   "source": [
    "# Drop unneeded columns\n",
    "TN02 = TN02.drop(columns=['Cash on Hand', 'Last Report'])\n",
    "\n",
    "# Rename columns\n",
    "TN02 = (TN02.rename({'Candidate':'name',\n",
    "                     'Raised': 'raised',\n",
    "                     'Spent':'spent'},\n",
    "                    axis='columns'))"
   ]
  },
  {
   "cell_type": "code",
   "execution_count": 5,
   "metadata": {
    "scrolled": true
   },
   "outputs": [
    {
     "data": {
      "text/html": [
       "<div>\n",
       "<style scoped>\n",
       "    .dataframe tbody tr th:only-of-type {\n",
       "        vertical-align: middle;\n",
       "    }\n",
       "\n",
       "    .dataframe tbody tr th {\n",
       "        vertical-align: top;\n",
       "    }\n",
       "\n",
       "    .dataframe thead th {\n",
       "        text-align: right;\n",
       "    }\n",
       "</style>\n",
       "<table border=\"1\" class=\"dataframe\">\n",
       "  <thead>\n",
       "    <tr style=\"text-align: right;\">\n",
       "      <th></th>\n",
       "      <th>name</th>\n",
       "      <th>raised</th>\n",
       "      <th>spent</th>\n",
       "      <th>party</th>\n",
       "      <th>incumbent</th>\n",
       "      <th>race</th>\n",
       "      <th>state</th>\n",
       "      <th>district</th>\n",
       "    </tr>\n",
       "  </thead>\n",
       "  <tbody>\n",
       "    <tr>\n",
       "      <th>0</th>\n",
       "      <td>Tim Burchett</td>\n",
       "      <td>1336276</td>\n",
       "      <td>878488</td>\n",
       "      <td>R</td>\n",
       "      <td>True</td>\n",
       "      <td>True</td>\n",
       "      <td>TN</td>\n",
       "      <td>02</td>\n",
       "    </tr>\n",
       "    <tr>\n",
       "      <th>1</th>\n",
       "      <td>Renee Hoyos</td>\n",
       "      <td>812784</td>\n",
       "      <td>816793</td>\n",
       "      <td>D</td>\n",
       "      <td>False</td>\n",
       "      <td>False</td>\n",
       "      <td>TN</td>\n",
       "      <td>02</td>\n",
       "    </tr>\n",
       "  </tbody>\n",
       "</table>\n",
       "</div>"
      ],
      "text/plain": [
       "           name   raised   spent party incumbent   race state district\n",
       "0  Tim Burchett  1336276  878488     R      True   True    TN       02\n",
       "1   Renee Hoyos   812784  816793     D     False  False    TN       02"
      ]
     },
     "execution_count": 5,
     "metadata": {},
     "output_type": "execute_result"
    }
   ],
   "source": [
    "TN02"
   ]
  }
 ],
 "metadata": {
  "kernelspec": {
   "display_name": "Python 3",
   "language": "python",
   "name": "python3"
  },
  "language_info": {
   "codemirror_mode": {
    "name": "ipython",
    "version": 3
   },
   "file_extension": ".py",
   "mimetype": "text/x-python",
   "name": "python",
   "nbconvert_exporter": "python",
   "pygments_lexer": "ipython3",
   "version": "3.8.5"
  }
 },
 "nbformat": 4,
 "nbformat_minor": 4
}
