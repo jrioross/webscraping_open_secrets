{
 "cells": [
  {
   "cell_type": "code",
   "execution_count": 1,
   "id": "c1892c05",
   "metadata": {},
   "outputs": [],
   "source": [
    "import requests\n",
    "from bs4 import BeautifulSoup as BS\n",
    "import numpy as np\n",
    "import pandas as pd\n",
    "import re"
   ]
  },
  {
   "cell_type": "code",
   "execution_count": 2,
   "id": "d9a21bb9",
   "metadata": {},
   "outputs": [
    {
     "data": {
      "text/plain": [
       "<Response [200]>"
      ]
     },
     "execution_count": 2,
     "metadata": {},
     "output_type": "execute_result"
    }
   ],
   "source": [
    "# Get request\n",
    "URL = 'https://www.opensecrets.org/races/summary?cycle=2020&id=TN02&spec=N'\n",
    "\n",
    "response = requests.get(URL)\n",
    "response"
   ]
  },
  {
   "cell_type": "code",
   "execution_count": 3,
   "id": "0ff554eb",
   "metadata": {},
   "outputs": [],
   "source": [
    "# Get soup\n",
    "soup = BS(response.text)"
   ]
  },
  {
   "cell_type": "code",
   "execution_count": 4,
   "id": "53797a41",
   "metadata": {},
   "outputs": [],
   "source": [
    "# Read table as dataframe\n",
    "TN02 = pd.read_html(str(soup.find('table')))[0]"
   ]
  },
  {
   "cell_type": "code",
   "execution_count": 5,
   "id": "61ea0b06",
   "metadata": {},
   "outputs": [],
   "source": [
    "# Make column titles lowercase\n",
    "TN02.columns = TN02.columns.str.lower()\n",
    "\n",
    "# Split candidate column and add named columns to TN02\n",
    "TN02[['name', 'party', 'incumbent', 'winner']] = TN02['candidate'].str.split(r'\\(|•', expand = True)\n",
    "\n",
    "# Drop candidate column and rearrange columns for readability\n",
    "TN02 = TN02.drop(columns = 'candidate')[['name', 'party','incumbent', 'winner', 'raised', 'spent']]\n",
    "\n",
    "# Clean the party column\n",
    "TN02['party'] = TN02['party'].str.replace(r'\\)', '', regex = True)\n",
    "\n",
    "# Clean and change types of raised and spent\n",
    "money_cols = ['raised', 'spent']\n",
    "for col in money_cols:\n",
    "    TN02[col] = TN02[col].str.replace(r'\\$|,', '', regex = True).astype('int')"
   ]
  },
  {
   "cell_type": "code",
   "execution_count": 6,
   "id": "c13f89ca",
   "metadata": {},
   "outputs": [
    {
     "data": {
      "text/html": [
       "<div>\n",
       "<style scoped>\n",
       "    .dataframe tbody tr th:only-of-type {\n",
       "        vertical-align: middle;\n",
       "    }\n",
       "\n",
       "    .dataframe tbody tr th {\n",
       "        vertical-align: top;\n",
       "    }\n",
       "\n",
       "    .dataframe thead th {\n",
       "        text-align: right;\n",
       "    }\n",
       "</style>\n",
       "<table border=\"1\" class=\"dataframe\">\n",
       "  <thead>\n",
       "    <tr style=\"text-align: right;\">\n",
       "      <th></th>\n",
       "      <th>name</th>\n",
       "      <th>party</th>\n",
       "      <th>incumbent</th>\n",
       "      <th>winner</th>\n",
       "      <th>raised</th>\n",
       "      <th>spent</th>\n",
       "    </tr>\n",
       "  </thead>\n",
       "  <tbody>\n",
       "    <tr>\n",
       "      <th>0</th>\n",
       "      <td>Tim Burchett</td>\n",
       "      <td>R</td>\n",
       "      <td>Incumbent</td>\n",
       "      <td>Winner</td>\n",
       "      <td>1336276</td>\n",
       "      <td>878488</td>\n",
       "    </tr>\n",
       "    <tr>\n",
       "      <th>1</th>\n",
       "      <td>Renee Hoyos</td>\n",
       "      <td>D</td>\n",
       "      <td>None</td>\n",
       "      <td>None</td>\n",
       "      <td>812784</td>\n",
       "      <td>816793</td>\n",
       "    </tr>\n",
       "  </tbody>\n",
       "</table>\n",
       "</div>"
      ],
      "text/plain": [
       "            name party    incumbent   winner   raised   spent\n",
       "0  Tim Burchett    R     Incumbent    Winner  1336276  878488\n",
       "1   Renee Hoyos      D         None     None   812784  816793"
      ]
     },
     "execution_count": 6,
     "metadata": {},
     "output_type": "execute_result"
    }
   ],
   "source": [
    "TN02"
   ]
  }
 ],
 "metadata": {
  "kernelspec": {
   "display_name": "Python 3",
   "language": "python",
   "name": "python3"
  },
  "language_info": {
   "codemirror_mode": {
    "name": "ipython",
    "version": 3
   },
   "file_extension": ".py",
   "mimetype": "text/x-python",
   "name": "python",
   "nbconvert_exporter": "python",
   "pygments_lexer": "ipython3",
   "version": "3.8.8"
  }
 },
 "nbformat": 4,
 "nbformat_minor": 5
}
