{
 "cells": [
  {
   "cell_type": "code",
   "execution_count": 1,
   "metadata": {},
   "outputs": [],
   "source": [
    "import pandas as pd\n",
    "import requests\n",
    "from bs4 import BeautifulSoup as BS\n",
    "import matplotlib.pyplot as plt"
   ]
  },
  {
   "cell_type": "code",
   "execution_count": 2,
   "metadata": {},
   "outputs": [],
   "source": [
    "# Read in cleaned US dataframe\n",
    "US = pd.read_csv('../data/us_rep_elections.csv')"
   ]
  },
  {
   "cell_type": "code",
   "execution_count": 3,
   "metadata": {},
   "outputs": [],
   "source": [
    "# Scrape table of state abbreviations and # of representatives per state from Britannica site\n",
    "response = requests.get('https://www.britannica.com/topic/United-States-House-of-Representatives-Seats-by-State-1787120')\n",
    "soup = BS(response.text)\n",
    "states_reps = pd.read_html(str(soup.find('table')))[0].drop(50)\n",
    "\n",
    "# Scrape abbreviation table from World Population Review site\n",
    "response = requests.get('https://worldpopulationreview.com/states/state-abbreviations')\n",
    "soup = BS(response.text)\n",
    "states_abv = pd.read_html(str(soup.find('table')))[0]\n",
    "states_abv = (states_abv.rename({'State':'state'},\n",
    "                                axis='columns'))\n",
    "\n",
    "# Merge the two read in dataframes\n",
    "states = pd.merge(states_reps, states_abv, on='state').drop(columns=['Abbreviation','state'])\n",
    "\n",
    "# Empty Dictionary to capture results from following for loop\n",
    "raised_winner = {'Win': 0,\n",
    "                'Lost': 0}\n",
    "\n",
    "# Loop through states dataframe and determine if candidates who raised the most money won their race\n",
    "for index in states.index:\n",
    "    global raised_winner\n",
    "    code = states.loc[index]['Code']\n",
    "    districts = states.loc[index]['representatives']\n",
    "    \n",
    "    for dist in range(1, districts+1):\n",
    "        checker = US[(US['district'] == dist) & (US['state'] == code)].sort_values('raised', ascending=False).head(1)['winner'].bool()\n",
    "        #print(checker)\n",
    "        if checker:\n",
    "            raised_winner['Win'] += 1\n",
    "        else:\n",
    "            raised_winner['Lost'] += 1"
   ]
  },
  {
   "cell_type": "code",
   "execution_count": 4,
   "metadata": {
    "scrolled": false
   },
   "outputs": [
    {
     "data": {
      "image/png": "[encoded data removed]",
      "text/plain": [
       "<Figure size 648x432 with 1 Axes>"
      ]
     },
     "metadata": {
      "needs_background": "light"
     },
     "output_type": "display_data"
    }
   ],
   "source": [
    "# Unzip items from dictionary\n",
    "raised_winner_list = raised_winner.items()\n",
    "x, y = zip(*raised_winner_list)\n",
    "\n",
    "# Graph results\n",
    "fig, ax = plt.subplots(figsize=(9,6))\n",
    "plt.bar(x, y)\n",
    "plt.title(\"Race Results for Candidates Who Raised the Most Money (in their respective race)\")\n",
    "plt.ylabel('# of candidates')\n",
    "\n",
    "xlocs, xlabs = plt.xticks()\n",
    "xlocs=[i+1 for i in range(0,10)]\n",
    "xlabs=[i/2 for i in range(0,10)]\n",
    "for i, v in enumerate(y):\n",
    "    plt.text(xlocs[i] - 1.02, v + 2.5, str(v));"
   ]
  }
 ],
 "metadata": {
  "kernelspec": {
   "display_name": "Python 3",
   "language": "python",
   "name": "python3"
  },
  "language_info": {
   "codemirror_mode": {
    "name": "ipython",
    "version": 3
   },
   "file_extension": ".py",
   "mimetype": "text/x-python",
   "name": "python",
   "nbconvert_exporter": "python",
   "pygments_lexer": "ipython3",
   "version": "3.8.5"
  }
 },
 "nbformat": 4,
 "nbformat_minor": 4
}
