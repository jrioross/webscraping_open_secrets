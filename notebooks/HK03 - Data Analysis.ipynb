{
 "cells": [
  {
   "cell_type": "markdown",
   "metadata": {},
   "source": [
    "# An Analysis of Political Contributions During the 2020 House of Representatives Election\n",
    "Name: Habeeb Kotun Jr.<br>\n",
    "Date: October 2021<br>\n",
    "\n",
    "Goal of this project is to:\n",
    "1. Webscrape data for the 2020 House of Representatives ELection from the Open Secrets website.\n",
    "2. Investigate different relationships between candidates and the amount of money they raised and spent."
   ]
  },
  {
   "cell_type": "code",
   "execution_count": 1,
   "metadata": {},
   "outputs": [],
   "source": [
    "import pandas as pd\n",
    "import matplotlib.pyplot as plt\n",
    "import matplotlib.ticker as mtick\n",
    "import statsmodels.api as sm \n",
    "import numpy as np"
   ]
  },
  {
   "cell_type": "code",
   "execution_count": 2,
   "metadata": {},
   "outputs": [],
   "source": [
    "# Read in cleaned US dataframe\n",
    "US = pd.read_csv('../data/us_rep_elections.csv')"
   ]
  },
  {
   "cell_type": "code",
   "execution_count": 3,
   "metadata": {},
   "outputs": [],
   "source": [
    "# Create new column for raised - spent called 'remaining_money'\n",
    "US['remaining_money'] = US['raised'] - US['spent']"
   ]
  },
  {
   "cell_type": "code",
   "execution_count": 4,
   "metadata": {},
   "outputs": [
    {
     "name": "stdout",
     "output_type": "stream",
     "text": [
      "<class 'pandas.core.frame.DataFrame'>\n",
      "RangeIndex: 894 entries, 0 to 893\n",
      "Data columns (total 9 columns):\n",
      " #   Column           Non-Null Count  Dtype \n",
      "---  ------           --------------  ----- \n",
      " 0   name             894 non-null    object\n",
      " 1   raised           894 non-null    int64 \n",
      " 2   spent            894 non-null    int64 \n",
      " 3   state            894 non-null    object\n",
      " 4   district         894 non-null    int64 \n",
      " 5   party            894 non-null    object\n",
      " 6   incumbent        894 non-null    bool  \n",
      " 7   winner           894 non-null    bool  \n",
      " 8   remaining_money  894 non-null    int64 \n",
      "dtypes: bool(2), int64(4), object(3)\n",
      "memory usage: 50.8+ KB\n",
      "None\n",
      "------------------------------------------------------------------------------------------\n",
      "                  name   raised    spent state  district party  incumbent  \\\n",
      "0          Jerry Carl   1971321  1859349    AL         1     R      False   \n",
      "1       James Averhart    80095    78973    AL         1     D      False   \n",
      "2         Barry Moore    650807   669368    AL         2     R      False   \n",
      "3  Phyllis Harvey-Hall    56050    55988    AL         2     D      False   \n",
      "4       Mike D Rogers   1193111  1218564    AL         3     D       True   \n",
      "5         Adia Winfrey    50273    40971    AL         3     D      False   \n",
      "6   Robert B Aderholt   1255076  1323812    AL         4     B       True   \n",
      "7       Rick Neighbors    46068    45034    AL         4     D      False   \n",
      "8           Mo Brooks    655365   210045    AL         5     R       True   \n",
      "9         Gary Palmer    907219   909082    AL         6     R       True   \n",
      "\n",
      "   winner  remaining_money  \n",
      "0    True           111972  \n",
      "1   False             1122  \n",
      "2    True           -18561  \n",
      "3   False               62  \n",
      "4    True           -25453  \n",
      "5   False             9302  \n",
      "6    True           -68736  \n",
      "7   False             1034  \n",
      "8    True           445320  \n",
      "9    True            -1863  \n"
     ]
    }
   ],
   "source": [
    "# Print information and first ten rows of US dataframe\n",
    "print(US.info())\n",
    "print(\"------------------------------------------------------------------------------------------\")\n",
    "print(US.head(10))"
   ]
  },
  {
   "cell_type": "code",
   "execution_count": 5,
   "metadata": {
    "scrolled": false
   },
   "outputs": [
    {
     "name": "stdout",
     "output_type": "stream",
     "text": [
      "                 Generalized Linear Model Regression Results                  \n",
      "==============================================================================\n",
      "Dep. Variable:                 winner   No. Observations:                  894\n",
      "Model:                            GLM   Df Residuals:                      892\n",
      "Model Family:                Binomial   Df Model:                            1\n",
      "Link Function:                  logit   Scale:                          1.0000\n",
      "Method:                          IRLS   Log-Likelihood:                -551.58\n",
      "Date:                Tue, 19 Oct 2021   Deviance:                       1103.2\n",
      "Time:                        21:23:27   Pearson chi2:                 1.63e+03\n",
      "No. Iterations:                     7                                         \n",
      "Covariance Type:            nonrobust                                         \n",
      "===================================================================================\n",
      "                      coef    std err          z      P>|z|      [0.025      0.975]\n",
      "-----------------------------------------------------------------------------------\n",
      "const              -0.4266      0.078     -5.452      0.000      -0.580      -0.273\n",
      "remaining_money  3.451e-06   4.19e-07      8.243      0.000    2.63e-06    4.27e-06\n",
      "===================================================================================\n"
     ]
    }
   ],
   "source": [
    "# Build a Logistic regression model with target variable equal to if a candidate won the race or not, \n",
    "# predictor variable will be the difference between money raised and money spent\n",
    "losreg = (sm.GLM(endog = US['winner'],\n",
    "                 exog = sm.add_constant(US['remaining_money']),\n",
    "                 family = sm.families.Binomial()).fit())\n",
    "\n",
    "print(losreg.summary())"
   ]
  },
  {
   "cell_type": "code",
   "execution_count": 6,
   "metadata": {
    "scrolled": false
   },
   "outputs": [
    {
     "name": "stderr",
     "output_type": "stream",
     "text": [
      "C:\\Users\\hjrko\\anaconda3\\lib\\site-packages\\pandas\\core\\series.py:726: RuntimeWarning: invalid value encountered in log\n",
      "  result = getattr(ufunc, method)(*inputs, **kwargs)\n"
     ]
    },
    {
     "data": {
      "image/png": "[encoded data removed]",
      "text/plain": [
       "<Figure size 648x432 with 1 Axes>"
      ]
     },
     "metadata": {
      "needs_background": "light"
     },
     "output_type": "display_data"
    }
   ],
   "source": [
    "# Plot Logistic regression model results from previous cell\n",
    "fig, ax = plt.subplots(figsize=(9,6))\n",
    "x = US['remaining_money']\n",
    "y_logistic = np.log(losreg.params[0] + (losreg.params[1]*x))\n",
    "plt.scatter(x, y_logistic)\n",
    "plt.xlabel(\"Remaining Money\")\n",
    "plt.ylabel(\"Probability of Winning\")\n",
    "plt.title(\"Logistic Regression Model for Candidates in the 2020 HOP Election\");"
   ]
  },
  {
   "cell_type": "code",
   "execution_count": 7,
   "metadata": {
    "scrolled": false
   },
   "outputs": [],
   "source": [
    "# Group dataset by Incumbent status and if if they won the race or not\n",
    "incumbent_winners = US.groupby(['incumbent', 'winner']).size().unstack().iloc[::-1, ::-1]\n",
    "incumbent_winners.iloc[0] = incumbent_winners.iloc[0]/incumbent_winners.iloc[0].sum()\n",
    "incumbent_winners.iloc[1] = incumbent_winners.iloc[1]/incumbent_winners.iloc[1].sum()"
   ]
  },
  {
   "cell_type": "code",
   "execution_count": 8,
   "metadata": {
    "scrolled": false
   },
   "outputs": [
    {
     "data": {
      "image/png": "[encoded data removed]",
      "text/plain": [
       "<Figure size 648x432 with 1 Axes>"
      ]
     },
     "metadata": {
      "needs_background": "light"
     },
     "output_type": "display_data"
    }
   ],
   "source": [
    "# Investigate how often the incumbent candidate wins a race\n",
    "fig, ax = plt.subplots(figsize=(9,6))\n",
    "ax.yaxis.set_major_formatter(mtick.PercentFormatter(xmax=1, decimals=None, symbol='%', is_latex=False))\n",
    "incumbent_winners.plot(kind='bar',\n",
    "                       rot=0,\n",
    "                       ax=ax)\n",
    "plt.title('Winning Status of Incumbent vs. Non-Incumbent Candidates in the 2020 HOP Election')\n",
    "plt.xlabel('Incumbent Status')\n",
    "plt.ylabel('% of Candidates')\n",
    "plt.xticks([0,1], ['Incumbent', 'Non-Incumbent'])\n",
    "plt.legend(['Won', 'Lost'], loc=1);"
   ]
  },
  {
   "cell_type": "markdown",
   "metadata": {},
   "source": [
    "The above bar graph shows that incumbent candidates are highly likely to be re-elected.<br>\n",
    "96% of incumbents from the 2020 House of Representatives election won their relection.<br>"
   ]
  }
 ],
 "metadata": {
  "kernelspec": {
   "display_name": "Python 3",
   "language": "python",
   "name": "python3"
  },
  "language_info": {
   "codemirror_mode": {
    "name": "ipython",
    "version": 3
   },
   "file_extension": ".py",
   "mimetype": "text/x-python",
   "name": "python",
   "nbconvert_exporter": "python",
   "pygments_lexer": "ipython3",
   "version": "3.8.5"
  }
 },
 "nbformat": 4,
 "nbformat_minor": 4
}
