{
 "cells": [
  {
   "cell_type": "code",
   "execution_count": 1,
   "metadata": {},
   "outputs": [],
   "source": [
    "import pandas as pd\n",
    "import matplotlib.pyplot as plt\n",
    "import matplotlib.ticker as mtick\n",
    "import statsmodels.api as sm \n",
    "import numpy as np"
   ]
  },
  {
   "cell_type": "code",
   "execution_count": 2,
   "metadata": {},
   "outputs": [],
   "source": [
    "# Read in cleaned US dataframe\n",
    "US = pd.read_csv('../data/us_rep_elections.csv')"
   ]
  },
  {
   "cell_type": "code",
   "execution_count": 3,
   "metadata": {},
   "outputs": [
    {
     "data": {
      "text/html": [
       "<div>\n",
       "<style scoped>\n",
       "    .dataframe tbody tr th:only-of-type {\n",
       "        vertical-align: middle;\n",
       "    }\n",
       "\n",
       "    .dataframe tbody tr th {\n",
       "        vertical-align: top;\n",
       "    }\n",
       "\n",
       "    .dataframe thead th {\n",
       "        text-align: right;\n",
       "    }\n",
       "</style>\n",
       "<table border=\"1\" class=\"dataframe\">\n",
       "  <thead>\n",
       "    <tr style=\"text-align: right;\">\n",
       "      <th></th>\n",
       "      <th>name</th>\n",
       "      <th>raised</th>\n",
       "      <th>spent</th>\n",
       "      <th>state</th>\n",
       "      <th>district</th>\n",
       "      <th>party</th>\n",
       "      <th>incumbent</th>\n",
       "      <th>winner</th>\n",
       "    </tr>\n",
       "  </thead>\n",
       "  <tbody>\n",
       "    <tr>\n",
       "      <th>0</th>\n",
       "      <td>Jerry Carl</td>\n",
       "      <td>1971321</td>\n",
       "      <td>1859349</td>\n",
       "      <td>AL</td>\n",
       "      <td>1</td>\n",
       "      <td>R</td>\n",
       "      <td>False</td>\n",
       "      <td>True</td>\n",
       "    </tr>\n",
       "    <tr>\n",
       "      <th>1</th>\n",
       "      <td>James Averhart</td>\n",
       "      <td>80095</td>\n",
       "      <td>78973</td>\n",
       "      <td>AL</td>\n",
       "      <td>1</td>\n",
       "      <td>D</td>\n",
       "      <td>False</td>\n",
       "      <td>False</td>\n",
       "    </tr>\n",
       "    <tr>\n",
       "      <th>2</th>\n",
       "      <td>Barry Moore</td>\n",
       "      <td>650807</td>\n",
       "      <td>669368</td>\n",
       "      <td>AL</td>\n",
       "      <td>2</td>\n",
       "      <td>R</td>\n",
       "      <td>False</td>\n",
       "      <td>True</td>\n",
       "    </tr>\n",
       "    <tr>\n",
       "      <th>3</th>\n",
       "      <td>Phyllis Harvey-Hall</td>\n",
       "      <td>56050</td>\n",
       "      <td>55988</td>\n",
       "      <td>AL</td>\n",
       "      <td>2</td>\n",
       "      <td>D</td>\n",
       "      <td>False</td>\n",
       "      <td>False</td>\n",
       "    </tr>\n",
       "    <tr>\n",
       "      <th>4</th>\n",
       "      <td>Mike D Rogers</td>\n",
       "      <td>1193111</td>\n",
       "      <td>1218564</td>\n",
       "      <td>AL</td>\n",
       "      <td>3</td>\n",
       "      <td>D</td>\n",
       "      <td>True</td>\n",
       "      <td>True</td>\n",
       "    </tr>\n",
       "    <tr>\n",
       "      <th>...</th>\n",
       "      <td>...</td>\n",
       "      <td>...</td>\n",
       "      <td>...</td>\n",
       "      <td>...</td>\n",
       "      <td>...</td>\n",
       "      <td>...</td>\n",
       "      <td>...</td>\n",
       "      <td>...</td>\n",
       "    </tr>\n",
       "    <tr>\n",
       "      <th>889</th>\n",
       "      <td>Tricia Zunker</td>\n",
       "      <td>1261957</td>\n",
       "      <td>1232690</td>\n",
       "      <td>WI</td>\n",
       "      <td>7</td>\n",
       "      <td>D</td>\n",
       "      <td>False</td>\n",
       "      <td>False</td>\n",
       "    </tr>\n",
       "    <tr>\n",
       "      <th>890</th>\n",
       "      <td>Mike Gallagher</td>\n",
       "      <td>3202905</td>\n",
       "      <td>2841801</td>\n",
       "      <td>WI</td>\n",
       "      <td>8</td>\n",
       "      <td>R</td>\n",
       "      <td>True</td>\n",
       "      <td>True</td>\n",
       "    </tr>\n",
       "    <tr>\n",
       "      <th>891</th>\n",
       "      <td>Amanda Stuck</td>\n",
       "      <td>416978</td>\n",
       "      <td>399916</td>\n",
       "      <td>WI</td>\n",
       "      <td>8</td>\n",
       "      <td>D</td>\n",
       "      <td>False</td>\n",
       "      <td>False</td>\n",
       "    </tr>\n",
       "    <tr>\n",
       "      <th>892</th>\n",
       "      <td>Liz Cheney</td>\n",
       "      <td>3003883</td>\n",
       "      <td>3060167</td>\n",
       "      <td>WY</td>\n",
       "      <td>1</td>\n",
       "      <td>R</td>\n",
       "      <td>True</td>\n",
       "      <td>True</td>\n",
       "    </tr>\n",
       "    <tr>\n",
       "      <th>893</th>\n",
       "      <td>Lynnette Grey Bull</td>\n",
       "      <td>134597</td>\n",
       "      <td>132235</td>\n",
       "      <td>WY</td>\n",
       "      <td>1</td>\n",
       "      <td>D</td>\n",
       "      <td>False</td>\n",
       "      <td>False</td>\n",
       "    </tr>\n",
       "  </tbody>\n",
       "</table>\n",
       "<p>894 rows × 8 columns</p>\n",
       "</div>"
      ],
      "text/plain": [
       "                    name   raised    spent state  district party  incumbent  \\\n",
       "0            Jerry Carl   1971321  1859349    AL         1     R      False   \n",
       "1         James Averhart    80095    78973    AL         1     D      False   \n",
       "2           Barry Moore    650807   669368    AL         2     R      False   \n",
       "3    Phyllis Harvey-Hall    56050    55988    AL         2     D      False   \n",
       "4         Mike D Rogers   1193111  1218564    AL         3     D       True   \n",
       "..                   ...      ...      ...   ...       ...   ...        ...   \n",
       "889        Tricia Zunker  1261957  1232690    WI         7     D      False   \n",
       "890      Mike Gallagher   3202905  2841801    WI         8     R       True   \n",
       "891         Amanda Stuck   416978   399916    WI         8     D      False   \n",
       "892          Liz Cheney   3003883  3060167    WY         1     R       True   \n",
       "893   Lynnette Grey Bull   134597   132235    WY         1     D      False   \n",
       "\n",
       "     winner  \n",
       "0      True  \n",
       "1     False  \n",
       "2      True  \n",
       "3     False  \n",
       "4      True  \n",
       "..      ...  \n",
       "889   False  \n",
       "890    True  \n",
       "891   False  \n",
       "892    True  \n",
       "893   False  \n",
       "\n",
       "[894 rows x 8 columns]"
      ]
     },
     "execution_count": 3,
     "metadata": {},
     "output_type": "execute_result"
    }
   ],
   "source": [
    "US"
   ]
  },
  {
   "cell_type": "markdown",
   "metadata": {},
   "source": [
    "# Problem 4c\n",
    "Does the difference between either money raised or money spent seem to influence the likelihood of a candidate winning a race?"
   ]
  },
  {
   "cell_type": "code",
   "execution_count": 4,
   "metadata": {},
   "outputs": [
    {
     "name": "stdout",
     "output_type": "stream",
     "text": [
      "                 Generalized Linear Model Regression Results                  \n",
      "==============================================================================\n",
      "Dep. Variable:                 winner   No. Observations:                  894\n",
      "Model:                            GLM   Df Residuals:                      892\n",
      "Model Family:                Binomial   Df Model:                            1\n",
      "Link Function:                  logit   Scale:                          1.0000\n",
      "Method:                          IRLS   Log-Likelihood:                -567.13\n",
      "Date:                Thu, 21 Oct 2021   Deviance:                       1134.3\n",
      "Time:                        21:24:11   Pearson chi2:                 1.03e+03\n",
      "No. Iterations:                     5                                         \n",
      "Covariance Type:            nonrobust                                         \n",
      "==============================================================================\n",
      "                 coef    std err          z      P>|z|      [0.025      0.975]\n",
      "------------------------------------------------------------------------------\n",
      "const         -0.6842      0.096     -7.147      0.000      -0.872      -0.497\n",
      "raised      3.812e-07   4.57e-08      8.336      0.000    2.92e-07    4.71e-07\n",
      "==============================================================================\n"
     ]
    }
   ],
   "source": [
    "# Build a Logistic regression model with target variable equal to if a candidate won the race or not, \n",
    "# predictor variable will be money raised\n",
    "raised_model = (sm.GLM(endog = US['winner'],\n",
    "                       exog = sm.add_constant(US[['raised']]),\n",
    "                       family = sm.families.Binomial())\n",
    "                .fit())\n",
    "\n",
    "print(raised_model.summary())"
   ]
  },
  {
   "cell_type": "code",
   "execution_count": 5,
   "metadata": {
    "scrolled": true
   },
   "outputs": [
    {
     "name": "stdout",
     "output_type": "stream",
     "text": [
      "                 Generalized Linear Model Regression Results                  \n",
      "==============================================================================\n",
      "Dep. Variable:                 winner   No. Observations:                  894\n",
      "Model:                            GLM   Df Residuals:                      892\n",
      "Model Family:                Binomial   Df Model:                            1\n",
      "Link Function:                  logit   Scale:                          1.0000\n",
      "Method:                          IRLS   Log-Likelihood:                -581.63\n",
      "Date:                Thu, 21 Oct 2021   Deviance:                       1163.3\n",
      "Time:                        21:24:11   Pearson chi2:                     955.\n",
      "No. Iterations:                     5                                         \n",
      "Covariance Type:            nonrobust                                         \n",
      "==============================================================================\n",
      "                 coef    std err          z      P>|z|      [0.025      0.975]\n",
      "------------------------------------------------------------------------------\n",
      "const         -0.5552      0.091     -6.076      0.000      -0.734      -0.376\n",
      "spent       3.195e-07   4.39e-08      7.283      0.000    2.34e-07    4.05e-07\n",
      "==============================================================================\n"
     ]
    }
   ],
   "source": [
    "# Build a Logistic regression model with target variable equal to if a candidate won the race or not, \n",
    "# predictor variable will be money spent\n",
    "spent_model = (sm.GLM(endog = US['winner'],\n",
    "                      exog = sm.add_constant(US[['spent']]),\n",
    "                      family = sm.families.Binomial())\n",
    "               .fit())\n",
    "\n",
    "print(spent_model.summary())"
   ]
  },
  {
   "cell_type": "code",
   "execution_count": 6,
   "metadata": {
    "scrolled": false
   },
   "outputs": [
    {
     "data": {
      "image/png": "[encoded data removed]",
      "text/plain": [
       "<Figure size 648x432 with 1 Axes>"
      ]
     },
     "metadata": {
      "needs_background": "light"
     },
     "output_type": "display_data"
    }
   ],
   "source": [
    "# Plot Logistic regression model results from previous cells\n",
    "plt.subplots(figsize=(9,6))\n",
    "\n",
    "x_raised = US['raised']\n",
    "y_raised = 1 / (1 + (np.exp(-raised_model.params[0] - (raised_model.params[1]*x_raised))))\n",
    "plt.scatter(x_raised, y_raised)\n",
    "\n",
    "x_spent = US['spent']\n",
    "y_spent = 1 / (1 + (np.exp(-spent_model.params[0] - (spent_model.params[1]*x_spent))))\n",
    "plt.scatter(x_spent, y_spent)\n",
    "\n",
    "plt.xlabel(\"Money\")\n",
    "plt.ylabel(\"Probability of Winning Election\")\n",
    "plt.title(\"Logistic Regression Model for Candidates in the 2020 HOR Election\")\n",
    "plt.legend(['Money Raised', 'Money Spent']);"
   ]
  },
  {
   "cell_type": "markdown",
   "metadata": {},
   "source": [
    "Our models show us that as candidates raise and spend more money the probability of the candidate winning the race increases. From our results, it would seem that money raised and money spent are equally useful in predicting if a candidate will win their election or not."
   ]
  }
 ],
 "metadata": {
  "kernelspec": {
   "display_name": "Python 3",
   "language": "python",
   "name": "python3"
  },
  "language_info": {
   "codemirror_mode": {
    "name": "ipython",
    "version": 3
   },
   "file_extension": ".py",
   "mimetype": "text/x-python",
   "name": "python",
   "nbconvert_exporter": "python",
   "pygments_lexer": "ipython3",
   "version": "3.8.5"
  }
 },
 "nbformat": 4,
 "nbformat_minor": 4
}
