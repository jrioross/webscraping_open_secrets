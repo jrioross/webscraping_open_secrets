{
 "cells": [
  {
   "cell_type": "code",
   "execution_count": 1,
   "metadata": {},
   "outputs": [],
   "source": [
    "import pandas as pd\n",
    "import matplotlib.pyplot as plt\n",
    "import matplotlib.ticker as mtick"
   ]
  },
  {
   "cell_type": "code",
   "execution_count": 2,
   "metadata": {},
   "outputs": [],
   "source": [
    "# Read in cleaned US dataframe\n",
    "US = pd.read_csv('../data/us_rep_elections.csv')"
   ]
  },
  {
   "cell_type": "code",
   "execution_count": 3,
   "metadata": {
    "scrolled": true
   },
   "outputs": [
    {
     "data": {
      "text/html": [
       "<div>\n",
       "<style scoped>\n",
       "    .dataframe tbody tr th:only-of-type {\n",
       "        vertical-align: middle;\n",
       "    }\n",
       "\n",
       "    .dataframe tbody tr th {\n",
       "        vertical-align: top;\n",
       "    }\n",
       "\n",
       "    .dataframe thead th {\n",
       "        text-align: right;\n",
       "    }\n",
       "</style>\n",
       "<table border=\"1\" class=\"dataframe\">\n",
       "  <thead>\n",
       "    <tr style=\"text-align: right;\">\n",
       "      <th></th>\n",
       "      <th>name</th>\n",
       "      <th>raised</th>\n",
       "      <th>spent</th>\n",
       "      <th>state</th>\n",
       "      <th>district</th>\n",
       "      <th>party</th>\n",
       "      <th>incumbent</th>\n",
       "      <th>winner</th>\n",
       "    </tr>\n",
       "  </thead>\n",
       "  <tbody>\n",
       "    <tr>\n",
       "      <th>0</th>\n",
       "      <td>Jerry Carl</td>\n",
       "      <td>1971321</td>\n",
       "      <td>1859349</td>\n",
       "      <td>AL</td>\n",
       "      <td>1</td>\n",
       "      <td>R</td>\n",
       "      <td>False</td>\n",
       "      <td>True</td>\n",
       "    </tr>\n",
       "    <tr>\n",
       "      <th>1</th>\n",
       "      <td>James Averhart</td>\n",
       "      <td>80095</td>\n",
       "      <td>78973</td>\n",
       "      <td>AL</td>\n",
       "      <td>1</td>\n",
       "      <td>D</td>\n",
       "      <td>False</td>\n",
       "      <td>False</td>\n",
       "    </tr>\n",
       "    <tr>\n",
       "      <th>2</th>\n",
       "      <td>Barry Moore</td>\n",
       "      <td>650807</td>\n",
       "      <td>669368</td>\n",
       "      <td>AL</td>\n",
       "      <td>2</td>\n",
       "      <td>R</td>\n",
       "      <td>False</td>\n",
       "      <td>True</td>\n",
       "    </tr>\n",
       "    <tr>\n",
       "      <th>3</th>\n",
       "      <td>Phyllis Harvey-Hall</td>\n",
       "      <td>56050</td>\n",
       "      <td>55988</td>\n",
       "      <td>AL</td>\n",
       "      <td>2</td>\n",
       "      <td>D</td>\n",
       "      <td>False</td>\n",
       "      <td>False</td>\n",
       "    </tr>\n",
       "    <tr>\n",
       "      <th>4</th>\n",
       "      <td>Mike D Rogers</td>\n",
       "      <td>1193111</td>\n",
       "      <td>1218564</td>\n",
       "      <td>AL</td>\n",
       "      <td>3</td>\n",
       "      <td>D</td>\n",
       "      <td>True</td>\n",
       "      <td>True</td>\n",
       "    </tr>\n",
       "    <tr>\n",
       "      <th>...</th>\n",
       "      <td>...</td>\n",
       "      <td>...</td>\n",
       "      <td>...</td>\n",
       "      <td>...</td>\n",
       "      <td>...</td>\n",
       "      <td>...</td>\n",
       "      <td>...</td>\n",
       "      <td>...</td>\n",
       "    </tr>\n",
       "    <tr>\n",
       "      <th>889</th>\n",
       "      <td>Tricia Zunker</td>\n",
       "      <td>1261957</td>\n",
       "      <td>1232690</td>\n",
       "      <td>WI</td>\n",
       "      <td>7</td>\n",
       "      <td>D</td>\n",
       "      <td>False</td>\n",
       "      <td>False</td>\n",
       "    </tr>\n",
       "    <tr>\n",
       "      <th>890</th>\n",
       "      <td>Mike Gallagher</td>\n",
       "      <td>3202905</td>\n",
       "      <td>2841801</td>\n",
       "      <td>WI</td>\n",
       "      <td>8</td>\n",
       "      <td>R</td>\n",
       "      <td>True</td>\n",
       "      <td>True</td>\n",
       "    </tr>\n",
       "    <tr>\n",
       "      <th>891</th>\n",
       "      <td>Amanda Stuck</td>\n",
       "      <td>416978</td>\n",
       "      <td>399916</td>\n",
       "      <td>WI</td>\n",
       "      <td>8</td>\n",
       "      <td>D</td>\n",
       "      <td>False</td>\n",
       "      <td>False</td>\n",
       "    </tr>\n",
       "    <tr>\n",
       "      <th>892</th>\n",
       "      <td>Liz Cheney</td>\n",
       "      <td>3003883</td>\n",
       "      <td>3060167</td>\n",
       "      <td>WY</td>\n",
       "      <td>1</td>\n",
       "      <td>R</td>\n",
       "      <td>True</td>\n",
       "      <td>True</td>\n",
       "    </tr>\n",
       "    <tr>\n",
       "      <th>893</th>\n",
       "      <td>Lynnette Grey Bull</td>\n",
       "      <td>134597</td>\n",
       "      <td>132235</td>\n",
       "      <td>WY</td>\n",
       "      <td>1</td>\n",
       "      <td>D</td>\n",
       "      <td>False</td>\n",
       "      <td>False</td>\n",
       "    </tr>\n",
       "  </tbody>\n",
       "</table>\n",
       "<p>894 rows × 8 columns</p>\n",
       "</div>"
      ],
      "text/plain": [
       "                    name   raised    spent state  district party  incumbent  \\\n",
       "0            Jerry Carl   1971321  1859349    AL         1     R      False   \n",
       "1         James Averhart    80095    78973    AL         1     D      False   \n",
       "2           Barry Moore    650807   669368    AL         2     R      False   \n",
       "3    Phyllis Harvey-Hall    56050    55988    AL         2     D      False   \n",
       "4         Mike D Rogers   1193111  1218564    AL         3     D       True   \n",
       "..                   ...      ...      ...   ...       ...   ...        ...   \n",
       "889        Tricia Zunker  1261957  1232690    WI         7     D      False   \n",
       "890      Mike Gallagher   3202905  2841801    WI         8     R       True   \n",
       "891         Amanda Stuck   416978   399916    WI         8     D      False   \n",
       "892          Liz Cheney   3003883  3060167    WY         1     R       True   \n",
       "893   Lynnette Grey Bull   134597   132235    WY         1     D      False   \n",
       "\n",
       "     winner  \n",
       "0      True  \n",
       "1     False  \n",
       "2      True  \n",
       "3     False  \n",
       "4      True  \n",
       "..      ...  \n",
       "889   False  \n",
       "890    True  \n",
       "891   False  \n",
       "892    True  \n",
       "893   False  \n",
       "\n",
       "[894 rows x 8 columns]"
      ]
     },
     "execution_count": 3,
     "metadata": {},
     "output_type": "execute_result"
    }
   ],
   "source": [
    "US"
   ]
  },
  {
   "cell_type": "code",
   "execution_count": 4,
   "metadata": {},
   "outputs": [
    {
     "name": "stdout",
     "output_type": "stream",
     "text": [
      "winner       True     False\n",
      "incumbent                  \n",
      "True       0.96114  0.03886\n",
      "False      0.11811  0.88189\n"
     ]
    }
   ],
   "source": [
    "# Group dataset by Incumbent status and if if they won the race or not\n",
    "incumbent_winners = US.groupby(['incumbent', 'winner']).size().unstack().iloc[::-1, ::-1]\n",
    "incumbent_winners.iloc[0] = incumbent_winners.iloc[0]/incumbent_winners.iloc[0].sum()\n",
    "incumbent_winners.iloc[1] = incumbent_winners.iloc[1]/incumbent_winners.iloc[1].sum()\n",
    "print(incumbent_winners)"
   ]
  },
  {
   "cell_type": "code",
   "execution_count": 5,
   "metadata": {},
   "outputs": [
    {
     "data": {
      "image/png": "[encoded data removed]",
      "text/plain": [
       "<Figure size 648x432 with 1 Axes>"
      ]
     },
     "metadata": {
      "needs_background": "light"
     },
     "output_type": "display_data"
    }
   ],
   "source": [
    "# Investigate how often the incumbent candidate wins a race\n",
    "fig, ax = plt.subplots(figsize=(9,6))\n",
    "ax.yaxis.set_major_formatter(mtick.PercentFormatter(xmax=1, decimals=None, symbol='%', is_latex=False))\n",
    "incumbent_winners.plot(kind='bar',\n",
    "                       rot=0,\n",
    "                       ax=ax)\n",
    "plt.title('Winning Status of Incumbent vs. Non-Incumbent Candidates in the 2020 HOR Election')\n",
    "plt.xlabel('Incumbent Status')\n",
    "plt.ylabel('% of Candidates')\n",
    "plt.xticks([0,1], ['Incumbent', 'Non-Incumbent'])\n",
    "plt.legend(['Won', 'Lost'], loc=1);"
   ]
  },
  {
   "cell_type": "markdown",
   "metadata": {},
   "source": [
    "Based on the 2020 House of Representative election data, incumbent candidates are highly likely to be re-elected.\n",
    "96% of incumbent candidates from the 2020 House of Representatives elections were re-elected.<br>\n",
    "On the other hand, it is very unlikely for a non-incumbent candidate to win their race. Only 12% of non-incumbent candidates from the 2020 House of Representatives elections won their race."
   ]
  }
 ],
 "metadata": {
  "kernelspec": {
   "display_name": "Python 3",
   "language": "python",
   "name": "python3"
  },
  "language_info": {
   "codemirror_mode": {
    "name": "ipython",
    "version": 3
   },
   "file_extension": ".py",
   "mimetype": "text/x-python",
   "name": "python",
   "nbconvert_exporter": "python",
   "pygments_lexer": "ipython3",
   "version": "3.8.5"
  }
 },
 "nbformat": 4,
 "nbformat_minor": 4
}
