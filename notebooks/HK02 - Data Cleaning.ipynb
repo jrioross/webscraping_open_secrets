{
 "cells": [
  {
   "cell_type": "code",
   "execution_count": 1,
   "metadata": {},
   "outputs": [],
   "source": [
    "import pandas as pd\n",
    "import numpy as np\n",
    "import re\n",
    "import requests\n",
    "from bs4 import BeautifulSoup as BS\n",
    "from tqdm.notebook import tqdm"
   ]
  },
  {
   "cell_type": "code",
   "execution_count": 2,
   "metadata": {},
   "outputs": [],
   "source": [
    "# Read in web scraped csv\n",
    "US = pd.read_csv('../data/US_scraped.csv')"
   ]
  },
  {
   "cell_type": "code",
   "execution_count": 3,
   "metadata": {},
   "outputs": [],
   "source": [
    "## Clean dataframe\n",
    "for index in US.index:\n",
    "    # Split up string in candidate column\n",
    "    candidate_split = US['Candidate'][index].split(' • ')\n",
    "\n",
    "    # Assign candidate name to candidate column\n",
    "    US.at[index, 'Candidate'] = re.sub(r'\\s\\W\\w\\W', \"\", candidate_split[0])\n",
    "    \n",
    "    # Create new column named party\n",
    "    party = re.findall(r'\\W\\w\\W', candidate_split[0])\n",
    "    US.at[index, 'party'] = re.sub(r'\\W', '', party[0])\n",
    "    \n",
    "    # Create column named incumbent and determine incumbent status\n",
    "    if 'Incumbent' in candidate_split:\n",
    "        US.at[index, 'incumbent'] =  True\n",
    "    else:\n",
    "        US.at[index, 'incumbent'] =  False\n",
    "\n",
    "    # Create column named race and determine if candidate won the race\n",
    "    if 'Winner' in candidate_split:\n",
    "        US.at[index, 'race'] =  True\n",
    "    else:\n",
    "        US.at[index, 'race'] =  False\n",
    "        \n",
    "    # Remove non-digit characters from raised and spent columns\n",
    "    # Also transform raised and spent columns to int type\n",
    "    US.at[index, 'Raised'] = int(re.sub(r'\\D', '', US.at[index, 'Raised']))\n",
    "    US.at[index, 'Spent'] = int(re.sub(r'\\D', '', US.at[index, 'Spent']))"
   ]
  },
  {
   "cell_type": "code",
   "execution_count": 4,
   "metadata": {},
   "outputs": [],
   "source": [
    "# Drop unneeded columns\n",
    "US = US.drop(columns=['Cash on Hand', 'Last Report'])\n",
    "\n",
    "# Rename columns\n",
    "US = (US.rename({'Candidate':'name',\n",
    "                 'Raised': 'raised',\n",
    "                 'Spent':'spent'},\n",
    "                axis='columns'))"
   ]
  },
  {
   "cell_type": "code",
   "execution_count": 5,
   "metadata": {},
   "outputs": [],
   "source": [
    "# Export cleaned dataframe\n",
    "US.to_csv('../data/us_rep_elections.csv')"
   ]
  }
 ],
 "metadata": {
  "kernelspec": {
   "display_name": "Python 3",
   "language": "python",
   "name": "python3"
  },
  "language_info": {
   "codemirror_mode": {
    "name": "ipython",
    "version": 3
   },
   "file_extension": ".py",
   "mimetype": "text/x-python",
   "name": "python",
   "nbconvert_exporter": "python",
   "pygments_lexer": "ipython3",
   "version": "3.8.5"
  }
 },
 "nbformat": 4,
 "nbformat_minor": 4
}
